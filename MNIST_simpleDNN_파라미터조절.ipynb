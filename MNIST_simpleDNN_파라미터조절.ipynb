{
 "cells": [
  {
   "cell_type": "code",
   "execution_count": 2,
   "metadata": {
    "colab": {
     "base_uri": "https://localhost:8080/",
     "height": 34
    },
    "colab_type": "code",
    "id": "i-lp_zSu309l",
    "outputId": "ba682de2-a1f6-4718-b9ef-fba4b9d24092"
   },
   "outputs": [],
   "source": [
    "# import tensorflow & keras\n",
    "import tensorflow as tf\n",
    "from tensorflow import keras\n",
    "from keras.models import Sequential\n",
    "from keras.layers import Dense, Dropout, Flatten, Activation\n",
    "import numpy as np\n",
    "import matplotlib.pyplot as plt"
   ]
  },
  {
   "cell_type": "markdown",
   "metadata": {},
   "source": [
    "# 1. 데이터 확인"
   ]
  },
  {
   "cell_type": "code",
   "execution_count": 3,
   "metadata": {
    "colab": {
     "base_uri": "https://localhost:8080/",
     "height": 52
    },
    "colab_type": "code",
    "id": "1P-iGK0537fp",
    "outputId": "9b3d5dda-e6d2-42a1-fd40-47894e6c258d"
   },
   "outputs": [],
   "source": [
    "#Download mnist data from MNIST server\n",
    "img_rows = 28\n",
    "img_cols = 28\n",
    "(x_train, y_train), (x_test, y_test) = keras.datasets.mnist.load_data()"
   ]
  },
  {
   "cell_type": "code",
   "execution_count": 4,
   "metadata": {
    "colab": {
     "base_uri": "https://localhost:8080/",
     "height": 607
    },
    "colab_type": "code",
    "id": "-HU8nFIi4Ew3",
    "outputId": "2c515776-a611-4b31-b067-e9dfd046cc04"
   },
   "outputs": [
    {
     "data": {
      "image/png": "[encoded data removed]",
      "text/plain": [
       "<Figure size 720x720 with 9 Axes>"
      ]
     },
     "metadata": {
      "needs_background": "light"
     },
     "output_type": "display_data"
    }
   ],
   "source": [
    "# Visualize images of the MNIST dataset\n",
    "plt.figure(figsize=(10, 10))\n",
    "for i in range(9):\n",
    "    plt.subplot(3,3,i+1)\n",
    "    plt.imshow(x_train[i], cmap='gray', interpolation='none')\n",
    "    plt.title(\"Class {}\".format(y_train[i]))"
   ]
  },
  {
   "cell_type": "code",
   "execution_count": 5,
   "metadata": {
    "colab": {
     "base_uri": "https://localhost:8080/",
     "height": 52
    },
    "colab_type": "code",
    "id": "yX_Nnd5-4G8t",
    "outputId": "ce683096-0aca-4811-e3fb-8321971f79d6"
   },
   "outputs": [
    {
     "name": "stdout",
     "output_type": "stream",
     "text": [
      "(60000, 28, 28)\n",
      "(10000, 28, 28)\n"
     ]
    }
   ],
   "source": [
    "# check the shape of training data\n",
    "print(x_train.shape)\n",
    "# check the shape of test data\n",
    "print(x_test.shape)"
   ]
  },
  {
   "cell_type": "markdown",
   "metadata": {},
   "source": [
    "# 2. 데이터 전처리"
   ]
  },
  {
   "cell_type": "code",
   "execution_count": 6,
   "metadata": {
    "colab": {},
    "colab_type": "code",
    "id": "2zvLieso4wP4"
   },
   "outputs": [],
   "source": [
    "# flatten training and test datasets to 1-d      -> 2차원 배열(28,28)을 784개의 속성 1차원으로 변환\n",
    "x_train = x_train.reshape(x_train.shape[0], 784)\n",
    "x_test = x_test.reshape(x_test.shape[0], 784)\n",
    "\n",
    "# 정규화(normalization) : 분산의 정도를 바꿔준다. 현재 0~255 사이의 값들을 0~1 사이의 값들로 변환\n",
    "x_train = x_train.astype('float32') / 255.\n",
    "x_test = x_test.astype('float32') / 255."
   ]
  },
  {
   "cell_type": "code",
   "execution_count": 7,
   "metadata": {
    "colab": {
     "base_uri": "https://localhost:8080/",
     "height": 34
    },
    "colab_type": "code",
    "id": "qNi9ALPp5gpV",
    "outputId": "3fc87d2e-cbce-49a0-df7e-1e566cdc81cd"
   },
   "outputs": [
    {
     "name": "stdout",
     "output_type": "stream",
     "text": [
      "(784,)\n",
      "(784,)\n"
     ]
    }
   ],
   "source": [
    "print(x_train[0].shape)\n",
    "print(x_test[0].shape)"
   ]
  },
  {
   "cell_type": "code",
   "execution_count": 8,
   "metadata": {
    "colab": {
     "base_uri": "https://localhost:8080/",
     "height": 70
    },
    "colab_type": "code",
    "id": "Wc7ONnDu5im0",
    "outputId": "b8884f62-27d2-4635-ff89-c0bd1647c3d8"
   },
   "outputs": [
    {
     "name": "stdout",
     "output_type": "stream",
     "text": [
      "x_train shape: (60000, 784)\n",
      "60000 train samples\n",
      "10000 test samples\n"
     ]
    }
   ],
   "source": [
    "# observe the shapes of training data after the reshape\n",
    "print('x_train shape:', x_train.shape)\n",
    "print(x_train.shape[0], 'train samples')\n",
    "print(x_test.shape[0], 'test samples')"
   ]
  },
  {
   "cell_type": "markdown",
   "metadata": {},
   "source": [
    "- train 데이터는 60000개 행, 784개의 속성\n",
    "- test 데이터는 10000개의 행, 784개의 속성"
   ]
  },
  {
   "cell_type": "markdown",
   "metadata": {},
   "source": [
    "### Y-레이블 값들을 원핫인코딩 : to_categorical 메소드 사용"
   ]
  },
  {
   "cell_type": "code",
   "execution_count": 9,
   "metadata": {
    "colab": {},
    "colab_type": "code",
    "id": "thlYf7Gg5mFV"
   },
   "outputs": [],
   "source": [
    "# 1,2,3,... 10 :One Hot coding\n",
    "num_classes = 10  # 결과 카테고리 갯수 = 10개의 숫자\n",
    "from keras.utils import np_utils\n",
    "\n",
    "# reshape labels categorically\n",
    "y_train = np_utils.to_categorical(y_train)\n",
    "y_test = np_utils.to_categorical(y_test)\n",
    "#y_train = keras.utils.to_categorical(y_train, num_classes)\n",
    "#y_test = keras.utils.to_categorical(y_test, num_classes)"
   ]
  },
  {
   "cell_type": "code",
   "execution_count": 10,
   "metadata": {
    "colab": {
     "base_uri": "https://localhost:8080/",
     "height": 70
    },
    "colab_type": "code",
    "id": "fqPUM2Lr5pwW",
    "outputId": "9a1a8c43-27d2-4c2d-db8e-a02e555d991d"
   },
   "outputs": [
    {
     "name": "stdout",
     "output_type": "stream",
     "text": [
      "[0. 0. 0. 0. 0. 1. 0. 0. 0. 0.]\n",
      "[0. 0. 0. 0. 0. 0. 0. 1. 0. 0.]\n",
      "784\n"
     ]
    }
   ],
   "source": [
    "print(y_train[0])\n",
    "print(y_test[0])\n",
    "y_train.shape,y_test.shape\n",
    "print(x_train.shape[1])"
   ]
  },
  {
   "cell_type": "markdown",
   "metadata": {},
   "source": [
    "### -> 데이터 전처리 완료. 이제부터 딥러닝 학습~~"
   ]
  },
  {
   "cell_type": "markdown",
   "metadata": {},
   "source": [
    "# 3. 딥러닝 모델 학습"
   ]
  },
  {
   "cell_type": "raw",
   "metadata": {},
   "source": [
    "딥러닝 구조\n",
    "\n",
    "model = Sequential()\n",
    "model.add(Dense()) # 입력층 + 은닉층\n",
    "model.add(Dense()) # 출력층 1개 - 10노드"
   ]
  },
  {
   "cell_type": "code",
   "execution_count": 11,
   "metadata": {
    "scrolled": true
   },
   "outputs": [
    {
     "data": {
      "text/plain": [
       "784"
      ]
     },
     "execution_count": 11,
     "metadata": {},
     "output_type": "execute_result"
    }
   ],
   "source": [
    "x_train.shape[1]"
   ]
  },
  {
   "cell_type": "code",
   "execution_count": 12,
   "metadata": {
    "colab": {},
    "colab_type": "code",
    "id": "QnpGPKF45sNE"
   },
   "outputs": [],
   "source": [
    "def make_model(num_layers):   # num_layers : 은닉층 갯수\n",
    "    model= Sequential()\n",
    "    \n",
    "    # 입력층\n",
    "    # 인풋은 784개 속성. 은닉층이 없을 때는 바로 출력층으로. 클래스는 10개. 출력층 활성화함수는 다중분류이므로 softmax\n",
    "    if num_layers == 0:\n",
    "        model.add(Dense(output_dim= num_classes, input_dim = 784, activation='softmax'))        \n",
    "        # 컴파일\n",
    "        model.compile(loss='mse', optimizer = 'sgd', metrics=['accuracy'])\n",
    "        return model\n",
    "    \n",
    "    # 은닉층\n",
    "    for i in range(num_layers):        \n",
    "        if i == 0:\n",
    "            model.add(Dense(output_dim = 32, input_dim = 784, activation='sigmoid'))        \n",
    "        else:\n",
    "            model.add(Dense(output_dim = 10, activation='sigmoid'))\n",
    "    \n",
    "    # 출력층 : 10차원, 다중분류이므로 활성화함수는 softmax\n",
    "    model.add(Dense(output_dim = num_classes, activation=\"softmax\"))\n",
    "    \n",
    "    # 컴파일\n",
    "    model.compile(loss='mse', optimizer='sgd', metrics=['accuracy'])\n",
    "    return model"
   ]
  },
  {
   "cell_type": "code",
   "execution_count": 13,
   "metadata": {
    "colab": {
     "base_uri": "https://localhost:8080/",
     "height": 492
    },
    "colab_type": "code",
    "id": "e7BpXJOo5-m8",
    "outputId": "f0a766e4-3178-4f2a-de01-c74b4516cc7e"
   },
   "outputs": [
    {
     "name": "stderr",
     "output_type": "stream",
     "text": [
      "C:\\Users\\runia\\Anaconda3\\envs\\py36\\lib\\site-packages\\ipykernel_launcher.py:15: UserWarning: Update your `Dense` call to the Keras 2 API: `Dense(input_dim=784, activation=\"sigmoid\", units=32)`\n",
      "  from ipykernel import kernelapp as app\n",
      "C:\\Users\\runia\\Anaconda3\\envs\\py36\\lib\\site-packages\\ipykernel_launcher.py:20: UserWarning: Update your `Dense` call to the Keras 2 API: `Dense(activation=\"softmax\", units=10)`\n"
     ]
    },
    {
     "name": "stdout",
     "output_type": "stream",
     "text": [
      "Model: \"sequential_1\"\n",
      "_________________________________________________________________\n",
      "Layer (type)                 Output Shape              Param #   \n",
      "=================================================================\n",
      "dense_1 (Dense)              (None, 32)                25120     \n",
      "_________________________________________________________________\n",
      "dense_2 (Dense)              (None, 10)                330       \n",
      "=================================================================\n",
      "Total params: 25,450\n",
      "Trainable params: 25,450\n",
      "Non-trainable params: 0\n",
      "_________________________________________________________________\n",
      "WARNING:tensorflow:From C:\\Users\\runia\\Anaconda3\\envs\\py36\\lib\\site-packages\\keras\\backend\\tensorflow_backend.py:422: The name tf.global_variables is deprecated. Please use tf.compat.v1.global_variables instead.\n",
      "\n",
      "Train on 60000 samples, validate on 10000 samples\n",
      "Epoch 1/5\n",
      "60000/60000 [==============================] - 2s 26us/step - loss: 0.0943 - accuracy: 0.0978 - val_loss: 0.0933 - val_accuracy: 0.0999\n",
      "Epoch 2/5\n",
      "60000/60000 [==============================] - 1s 24us/step - loss: 0.0927 - accuracy: 0.1027 - val_loss: 0.0921 - val_accuracy: 0.1103\n",
      "Epoch 3/5\n",
      "60000/60000 [==============================] - 1s 21us/step - loss: 0.0917 - accuracy: 0.1172 - val_loss: 0.0913 - val_accuracy: 0.1265\n",
      "Epoch 4/5\n",
      "60000/60000 [==============================] - 1s 24us/step - loss: 0.0909 - accuracy: 0.1297 - val_loss: 0.0906 - val_accuracy: 0.1388\n",
      "Epoch 5/5\n",
      "60000/60000 [==============================] - 1s 23us/step - loss: 0.0904 - accuracy: 0.1428 - val_loss: 0.0901 - val_accuracy: 0.1577\n"
     ]
    }
   ],
   "source": [
    "(x_train.shape[1],)\n",
    "#num_hidden_neurons = 32\n",
    "model = make_model(num_layers=1)\n",
    "\n",
    "model.summary()\n",
    "history = model.fit(x_train, y_train, batch_size = 128, epochs = 5, validation_data  =(x_test, y_test))"
   ]
  },
  {
   "cell_type": "code",
   "execution_count": 14,
   "metadata": {
    "colab": {
     "base_uri": "https://localhost:8080/",
     "height": 52
    },
    "colab_type": "code",
    "id": "eWarTulI6DN0",
    "outputId": "4e6e38f2-1723-4483-ddc3-8537b52cc053"
   },
   "outputs": [
    {
     "name": "stdout",
     "output_type": "stream",
     "text": [
      "Test loss: 0.09012828283309937\n",
      "Test accuracy: 0.15770000219345093\n"
     ]
    }
   ],
   "source": [
    "#evaluate the test loss\n",
    "\n",
    "score = model.evaluate(x_test, y_test, verbose=0)\n",
    "print('Test loss:', score[0])\n",
    "print('Test accuracy:', score[1])"
   ]
  },
  {
   "cell_type": "code",
   "execution_count": 19,
   "metadata": {},
   "outputs": [
    {
     "data": {
      "text/plain": [
       "{'val_loss': [0.09332802146673203,\n",
       "  0.09209733335971833,\n",
       "  0.09126315305233001,\n",
       "  0.09063471426963807,\n",
       "  0.09012828190326691],\n",
       " 'val_accuracy': [0.09989999979734421,\n",
       "  0.11029999703168869,\n",
       "  0.1264999955892563,\n",
       "  0.1387999951839447,\n",
       "  0.15770000219345093],\n",
       " 'loss': [0.0942643579920133,\n",
       "  0.09265401576360066,\n",
       "  0.09165492701133092,\n",
       "  0.09094332143863042,\n",
       "  0.09039076357285182],\n",
       " 'accuracy': [0.0978, 0.10271667, 0.11716667, 0.1297, 0.14281666]}"
      ]
     },
     "execution_count": 19,
     "metadata": {},
     "output_type": "execute_result"
    }
   ],
   "source": [
    "history.history"
   ]
  },
  {
   "cell_type": "code",
   "execution_count": 18,
   "metadata": {},
   "outputs": [
    {
     "name": "stdout",
     "output_type": "stream",
     "text": [
      "10000/10000 [==============================] - 0s 19us/step\n",
      "\n",
      " Test Accuracy: 0.1577\n"
     ]
    },
    {
     "data": {
      "image/png": "[encoded data removed]",
      "text/plain": [
       "<Figure size 432x288 with 1 Axes>"
      ]
     },
     "metadata": {
      "needs_background": "light"
     },
     "output_type": "display_data"
    }
   ],
   "source": [
    "import matplotlib.pyplot as plt\n",
    "import numpy\n",
    "import sys\n",
    "import os\n",
    "\n",
    "# 결과 출력\n",
    "# 테스트 정확도 출력\n",
    "print(\"\\n Test Accuracy: %.4f\" % (model.evaluate(x_test, y_test)[1]))\n",
    "\n",
    "# 테스트 셋의 오차\n",
    "y_vloss = history.history['val_loss']\n",
    "\n",
    "# 테스트 셋의 정확도\n",
    "y_vaccuracy = history.history['val_accuracy']\n",
    "\n",
    "# 그래프로 표현\n",
    "x_len = numpy.arange(len(y_vloss))\n",
    "plt.plot(x_len, y_vloss, marker='.', c=\"red\", label='Testset_loss')\n",
    "plt.plot(x_len, y_vaccuracy, marker='.', c=\"blue\", label='test_accuracy')\n",
    "\n",
    "# 그래프에 그리드를 주고 레이블을 표시\n",
    "plt.legend(loc='upper right')\n",
    "# plt.axis([0, 20, 0, 0.35])\n",
    "plt.grid()\n",
    "plt.xlabel('epoch')\n",
    "plt.show()"
   ]
  },
  {
   "cell_type": "code",
   "execution_count": 16,
   "metadata": {
    "colab": {
     "base_uri": "https://localhost:8080/",
     "height": 282
    },
    "colab_type": "code",
    "id": "7LfYCahv6uxu",
    "outputId": "5914a910-66b5-4c06-ab53-2613f3737d22"
   },
   "outputs": [
    {
     "data": {
      "image/png": "[encoded data removed]",
      "text/plain": [
       "<Figure size 432x288 with 1 Axes>"
      ]
     },
     "metadata": {
      "needs_background": "light"
     },
     "output_type": "display_data"
    },
    {
     "name": "stdout",
     "output_type": "stream",
     "text": [
      "The Answer is  [5]\n"
     ]
    }
   ],
   "source": [
    "# test the model through visually debugging the inputs,,  run > twice to see the image\n",
    "# index of your input to test\n",
    "n = 3\n",
    "\n",
    "# see the image by plotting\n",
    "plt.imshow(x_test[n].reshape(28, 28), cmap='Greys', interpolation='nearest')  \n",
    "plt.show()\n",
    "\n",
    "# your model's prediction, is the output correct?\n",
    "print('The Answer is ', model.predict_classes(x_test[n].reshape((1, 28* 28) ) ) )\n"
   ]
  },
  {
   "cell_type": "markdown",
   "metadata": {
    "colab_type": "text",
    "id": "jLVXu5zs7tji"
   },
   "source": [
    "## 1. Report the result of the test loss & accuracy, when we set the dimension(neurons) of hidden layer to (64, 128, 256) with one hidden layer.\n",
    "## *** Default condition : refer in the above codes.. \n",
    "## *** You have to write your codes in another blank area, and write your answer in below.\n",
    "\n",
    "> 들여쓴 블록\n",
    "\n",
    "\n",
    "| dimension |      test loss     |    test accuracy      |\n",
    "|-----------|--------------------|-----------------------|\n",
    "|   64      |                    |                       |\n",
    "|-----------|--------------------|-----------------------|\n",
    "|   128     |                    |                       | \n",
    "|-----------|--------------------|-----------------------|\n",
    "|   256     |                    |                       |\n",
    "\n",
    "\n",
    "\n"
   ]
  },
  {
   "cell_type": "code",
   "execution_count": 31,
   "metadata": {
    "colab": {
     "base_uri": "https://localhost:8080/",
     "height": 54
    },
    "colab_type": "code",
    "id": "4YMxRSVW7_HC",
    "outputId": "511c61d5-fed0-48fb-9b73-d37bcbce0cb0"
   },
   "outputs": [
    {
     "data": {
      "text/plain": [
       "'\\ndimension 64\\ntest loss : 0.08976013565063476\\ntest accuracy : 0.1843000054359436\\n\\ndimension 128\\nTest loss: 0.08933562490940095\\nTest accuracy: 0.2102999985218048\\n\\ndimension 256\\nTest loss: 0.08826014685630798\\nTest accuracy: 0.29429998993873596\\n'"
      ]
     },
     "execution_count": 31,
     "metadata": {},
     "output_type": "execute_result"
    }
   ],
   "source": [
    "# Write your answer in here\n",
    "\"\"\"\n",
    "dimension 64\n",
    "test loss : 0.08976013565063476\n",
    "test accuracy : 0.1843000054359436\n",
    "\n",
    "dimension 128\n",
    "Test loss: 0.08933562490940095\n",
    "Test accuracy: 0.2102999985218048\n",
    "\n",
    "dimension 256\n",
    "Test loss: 0.08826014685630798\n",
    "Test accuracy: 0.29429998993873596\n",
    "\"\"\"\n"
   ]
  },
  {
   "cell_type": "code",
   "execution_count": 54,
   "metadata": {
    "colab": {},
    "colab_type": "code",
    "id": "NhZQRcAbmdtL"
   },
   "outputs": [],
   "source": [
    "# set the dimension of hidden layer to 64\n",
    "def make_model(num_layers):\n",
    "    model= Sequential()\n",
    "    if num_layers == 0:\n",
    "        model.add(Dense(output_dim= num_classes, input_dim = x_train.shape[1], activation='softmax'))\n",
    "        model.compile(loss='mse', optimizer = 'sgd', metrics=['accuracy'])\n",
    "        return model\n",
    "    \n",
    "    for i in range(num_layers):\n",
    "        if i == 0:\n",
    "            model.add(Dense(output_dim = 64, input_dim = x_train.shape[1], activation='sigmoid'))\n",
    "        else:\n",
    "            model.add(Dense(output_dim = 10, activation='sigmoid'))\n",
    "    model.add(Dense(output_dim = num_classes, activation=\"softmax\"))\n",
    "    model.compile(loss='mse', optimizer='sgd', metrics=['accuracy'])\n",
    "    return model"
   ]
  },
  {
   "cell_type": "code",
   "execution_count": 55,
   "metadata": {
    "colab": {
     "base_uri": "https://localhost:8080/",
     "height": 492
    },
    "colab_type": "code",
    "id": "zIC9YUv8m2QA",
    "outputId": "312392f5-f625-4c60-fce7-dfe27b4323dd"
   },
   "outputs": [
    {
     "name": "stderr",
     "output_type": "stream",
     "text": [
      "C:\\Users\\runia\\Anaconda3\\envs\\py36\\lib\\site-packages\\ipykernel_launcher.py:11: UserWarning: Update your `Dense` call to the Keras 2 API: `Dense(input_dim=784, activation=\"sigmoid\", units=64)`\n",
      "  # This is added back by InteractiveShellApp.init_path()\n",
      "C:\\Users\\runia\\Anaconda3\\envs\\py36\\lib\\site-packages\\ipykernel_launcher.py:14: UserWarning: Update your `Dense` call to the Keras 2 API: `Dense(activation=\"softmax\", units=10)`\n",
      "  \n"
     ]
    },
    {
     "name": "stdout",
     "output_type": "stream",
     "text": [
      "Model: \"sequential_6\"\n",
      "_________________________________________________________________\n",
      "Layer (type)                 Output Shape              Param #   \n",
      "=================================================================\n",
      "dense_11 (Dense)             (None, 64)                50240     \n",
      "_________________________________________________________________\n",
      "dense_12 (Dense)             (None, 10)                650       \n",
      "=================================================================\n",
      "Total params: 50,890\n",
      "Trainable params: 50,890\n",
      "Non-trainable params: 0\n",
      "_________________________________________________________________\n",
      "Train on 60000 samples, validate on 10000 samples\n",
      "Epoch 1/5\n",
      "60000/60000 [==============================] - 4s 63us/step - loss: 0.0914 - accuracy: 0.0989 - val_loss: 0.0910 - val_accuracy: 0.1018\n",
      "Epoch 2/5\n",
      "60000/60000 [==============================] - 3s 53us/step - loss: 0.0907 - accuracy: 0.1095 - val_loss: 0.0905 - val_accuracy: 0.1267\n",
      "Epoch 3/5\n",
      "60000/60000 [==============================] - 3s 51us/step - loss: 0.0903 - accuracy: 0.1368 - val_loss: 0.0901 - val_accuracy: 0.1560\n",
      "Epoch 4/5\n",
      "60000/60000 [==============================] - 3s 55us/step - loss: 0.0900 - accuracy: 0.1663 - val_loss: 0.0898 - val_accuracy: 0.1839\n",
      "Epoch 5/5\n",
      "60000/60000 [==============================] - 3s 49us/step - loss: 0.0897 - accuracy: 0.1919 - val_loss: 0.0896 - val_accuracy: 0.2074\n"
     ]
    }
   ],
   "source": [
    "(x_train.shape[1],)\n",
    "#num_hidden_neurons = 64\n",
    "model = make_model(num_layers=1)\n",
    "\n",
    "model.summary()\n",
    "history = model.fit(x_train, y_train, batch_size = 128, epochs = 5, validation_data  =(x_test, y_test))"
   ]
  },
  {
   "cell_type": "code",
   "execution_count": 56,
   "metadata": {
    "colab": {
     "base_uri": "https://localhost:8080/",
     "height": 52
    },
    "colab_type": "code",
    "id": "qyDOo7NGm-EZ",
    "outputId": "27bbd8e2-52ce-4cfb-ca7a-ce67c996a97b"
   },
   "outputs": [
    {
     "name": "stdout",
     "output_type": "stream",
     "text": [
      "Test loss: 0.08955387477874756\n",
      "Test accuracy: 0.20739999413490295\n"
     ]
    }
   ],
   "source": [
    "#evaluate the test loss\n",
    "\n",
    "score = model.evaluate(x_test, y_test, verbose=0)\n",
    "print('Test loss:', score[0])\n",
    "print('Test accuracy:', score[1])"
   ]
  },
  {
   "cell_type": "code",
   "execution_count": 57,
   "metadata": {},
   "outputs": [
    {
     "data": {
      "text/plain": [
       "{'val_loss': [0.09098487620353699,\n",
       "  0.0904933875322342,\n",
       "  0.09013805607557297,\n",
       "  0.08983437230587006,\n",
       "  0.08955387580394746],\n",
       " 'val_accuracy': [0.10180000215768814,\n",
       "  0.1266999989748001,\n",
       "  0.15600000321865082,\n",
       "  0.18389999866485596,\n",
       "  0.20739999413490295],\n",
       " 'loss': [0.09142892117897669,\n",
       "  0.09073150426944097,\n",
       "  0.09031824016173681,\n",
       "  0.08999223322868347,\n",
       "  0.08970251265764237],\n",
       " 'accuracy': [0.098916665, 0.109516665, 0.13676667, 0.16633333, 0.19188334]}"
      ]
     },
     "execution_count": 57,
     "metadata": {},
     "output_type": "execute_result"
    }
   ],
   "source": [
    "history.history"
   ]
  },
  {
   "cell_type": "code",
   "execution_count": 58,
   "metadata": {},
   "outputs": [
    {
     "name": "stdout",
     "output_type": "stream",
     "text": [
      "10000/10000 [==============================] - 1s 78us/step\n"
     ]
    },
    {
     "data": {
      "text/plain": [
       "[0.08955387477874756, 0.20739999413490295]"
      ]
     },
     "execution_count": 58,
     "metadata": {},
     "output_type": "execute_result"
    }
   ],
   "source": [
    "model.evaluate(x_test, y_test)"
   ]
  },
  {
   "cell_type": "code",
   "execution_count": null,
   "metadata": {},
   "outputs": [],
   "source": [
    "import matplotlib.pyplot as plt\n",
    "import numpy\n",
    "import sys\n",
    "import os\n",
    "\n",
    "# 결과 출력\n",
    "# 테스트 정확도 출력\n",
    "print(\"\\n Test Accuracy: %.4f\" % (model.evaluate(x_test, y_test)[1]))\n",
    "\n",
    "# 테스트 셋의 오차\n",
    "y_vloss = history.history['val_loss']\n",
    "\n",
    "# 테스트 셋의 정확도\n",
    "y_vaccuracy = history.history['val_accuracy']\n",
    "\n",
    "# 그래프로 표현\n",
    "x_len = numpy.arange(len(y_loss))\n",
    "plt.plot(x_len, y_vloss, marker='.', c=\"red\", label='Testset_loss')\n",
    "plt.plot(x_len, y_vaccuracy, marker='.', c=\"blue\", label='test_accuracy')\n",
    "\n",
    "# 그래프에 그리드를 주고 레이블을 표시\n",
    "plt.legend(loc='upper right')\n",
    "# plt.axis([0, 20, 0, 0.35])\n",
    "plt.grid()\n",
    "plt.xlabel('epoch')\n",
    "plt.show()"
   ]
  },
  {
   "cell_type": "code",
   "execution_count": null,
   "metadata": {},
   "outputs": [],
   "source": []
  },
  {
   "cell_type": "code",
   "execution_count": 24,
   "metadata": {
    "colab": {},
    "colab_type": "code",
    "id": "AyKv2DfioIlp"
   },
   "outputs": [],
   "source": [
    "# set the dimension of hidden layer to 128\n",
    "def make_model(num_layers):\n",
    "    model= Sequential()\n",
    "    if num_layers == 0:\n",
    "        model.add(Dense(output_dim= num_classes, input_dim = x_train.shape[1], activation='softmax'))\n",
    "        model.compile(loss='mse', optimizer = 'sgd', metrics=['accuracy'])\n",
    "        return model\n",
    "    \n",
    "    for i in range(num_layers):\n",
    "        if i == 0:\n",
    "            model.add(Dense(output_dim = 128, input_dim = x_train.shape[1], activation='sigmoid'))\n",
    "        else:\n",
    "            model.add(Dense(output_dim = 10, activation='sigmoid'))\n",
    "    model.add(Dense(output_dim = num_classes, activation=\"softmax\"))\n",
    "    model.compile(loss='mse', optimizer='sgd', metrics=['accuracy'])\n",
    "    return model"
   ]
  },
  {
   "cell_type": "code",
   "execution_count": 25,
   "metadata": {
    "colab": {
     "base_uri": "https://localhost:8080/",
     "height": 492
    },
    "colab_type": "code",
    "id": "88pybUwvoTiZ",
    "outputId": "4c768373-0a76-4e53-a593-a10593ff7843"
   },
   "outputs": [
    {
     "name": "stderr",
     "output_type": "stream",
     "text": [
      "C:\\Program Files\\Anaconda3\\lib\\site-packages\\ipykernel_launcher.py:11: UserWarning: Update your `Dense` call to the Keras 2 API: `Dense(input_dim=784, activation=\"sigmoid\", units=128)`\n",
      "  # This is added back by InteractiveShellApp.init_path()\n",
      "C:\\Program Files\\Anaconda3\\lib\\site-packages\\ipykernel_launcher.py:14: UserWarning: Update your `Dense` call to the Keras 2 API: `Dense(activation=\"softmax\", units=10)`\n",
      "  \n"
     ]
    },
    {
     "name": "stdout",
     "output_type": "stream",
     "text": [
      "Model: \"sequential_3\"\n",
      "_________________________________________________________________\n",
      "Layer (type)                 Output Shape              Param #   \n",
      "=================================================================\n",
      "dense_5 (Dense)              (None, 128)               100480    \n",
      "_________________________________________________________________\n",
      "dense_6 (Dense)              (None, 10)                1290      \n",
      "=================================================================\n",
      "Total params: 101,770\n",
      "Trainable params: 101,770\n",
      "Non-trainable params: 0\n",
      "_________________________________________________________________\n",
      "Train on 60000 samples, validate on 10000 samples\n",
      "Epoch 1/5\n",
      "60000/60000 [==============================] - 1s 15us/step - loss: 0.0930 - accuracy: 0.0732 - val_loss: 0.0921 - val_accuracy: 0.0761\n",
      "Epoch 2/5\n",
      "60000/60000 [==============================] - 1s 17us/step - loss: 0.0916 - accuracy: 0.0803 - val_loss: 0.0911 - val_accuracy: 0.0923\n",
      "Epoch 3/5\n",
      "60000/60000 [==============================] - 1s 14us/step - loss: 0.0907 - accuracy: 0.1077 - val_loss: 0.0904 - val_accuracy: 0.1473\n",
      "Epoch 4/5\n",
      "60000/60000 [==============================] - 1s 13us/step - loss: 0.0901 - accuracy: 0.1874 - val_loss: 0.0898 - val_accuracy: 0.2132\n",
      "Epoch 5/5\n",
      "60000/60000 [==============================] - 1s 13us/step - loss: 0.0896 - accuracy: 0.2152 - val_loss: 0.0893 - val_accuracy: 0.2260\n"
     ]
    }
   ],
   "source": [
    "(x_train.shape[1],)\n",
    "#num_hidden_neurons = 128\n",
    "model = make_model(num_layers=1)\n",
    "\n",
    "model.summary()\n",
    "history = model.fit(x_train, y_train, batch_size = 128, epochs = 5, validation_data  =(x_test, y_test))"
   ]
  },
  {
   "cell_type": "code",
   "execution_count": 26,
   "metadata": {
    "colab": {
     "base_uri": "https://localhost:8080/",
     "height": 52
    },
    "colab_type": "code",
    "id": "I8GebeQ-oZRg",
    "outputId": "e66018bb-68eb-4be1-91b8-1c449eb96cad"
   },
   "outputs": [
    {
     "name": "stdout",
     "output_type": "stream",
     "text": [
      "Test loss: 0.0892838091135025\n",
      "Test accuracy: 0.22599999606609344\n"
     ]
    }
   ],
   "source": [
    "#evaluate the test loss\n",
    "\n",
    "score = model.evaluate(x_test, y_test, verbose=0)\n",
    "print('Test loss:', score[0])\n",
    "print('Test accuracy:', score[1])"
   ]
  },
  {
   "cell_type": "code",
   "execution_count": 27,
   "metadata": {
    "colab": {},
    "colab_type": "code",
    "id": "s7TTKJEdpfeS"
   },
   "outputs": [],
   "source": [
    "# set the dimension of hidden layer to 256\n",
    "def make_model(num_layers):\n",
    "    model= Sequential()\n",
    "    if num_layers == 0:\n",
    "        model.add(Dense(output_dim= num_classes, input_dim = x_train.shape[1], activation='softmax'))\n",
    "        model.compile(loss='mse', optimizer = 'sgd', metrics=['accuracy'])\n",
    "        return model\n",
    "    \n",
    "    for i in range(num_layers):\n",
    "        if i == 0:\n",
    "            model.add(Dense(output_dim = 256, input_dim = x_train.shape[1], activation='sigmoid'))\n",
    "        else:\n",
    "            model.add(Dense(output_dim = 10, activation='sigmoid'))\n",
    "    model.add(Dense(output_dim = num_classes, activation=\"softmax\"))\n",
    "    model.compile(loss='mse', optimizer='sgd', metrics=['accuracy'])\n",
    "    return model"
   ]
  },
  {
   "cell_type": "code",
   "execution_count": 28,
   "metadata": {
    "colab": {
     "base_uri": "https://localhost:8080/",
     "height": 492
    },
    "colab_type": "code",
    "id": "gN5AWlDjpoRR",
    "outputId": "82597c7e-ff01-4def-da9a-629272f2699b"
   },
   "outputs": [
    {
     "name": "stderr",
     "output_type": "stream",
     "text": [
      "C:\\Program Files\\Anaconda3\\lib\\site-packages\\ipykernel_launcher.py:11: UserWarning: Update your `Dense` call to the Keras 2 API: `Dense(input_dim=784, activation=\"sigmoid\", units=256)`\n",
      "  # This is added back by InteractiveShellApp.init_path()\n",
      "C:\\Program Files\\Anaconda3\\lib\\site-packages\\ipykernel_launcher.py:14: UserWarning: Update your `Dense` call to the Keras 2 API: `Dense(activation=\"softmax\", units=10)`\n",
      "  \n"
     ]
    },
    {
     "name": "stdout",
     "output_type": "stream",
     "text": [
      "Model: \"sequential_4\"\n",
      "_________________________________________________________________\n",
      "Layer (type)                 Output Shape              Param #   \n",
      "=================================================================\n",
      "dense_7 (Dense)              (None, 256)               200960    \n",
      "_________________________________________________________________\n",
      "dense_8 (Dense)              (None, 10)                2570      \n",
      "=================================================================\n",
      "Total params: 203,530\n",
      "Trainable params: 203,530\n",
      "Non-trainable params: 0\n",
      "_________________________________________________________________\n",
      "Train on 60000 samples, validate on 10000 samples\n",
      "Epoch 1/5\n",
      "60000/60000 [==============================] - 1s 22us/step - loss: 0.0913 - accuracy: 0.1386 - val_loss: 0.0904 - val_accuracy: 0.2080\n",
      "Epoch 2/5\n",
      "60000/60000 [==============================] - 1s 18us/step - loss: 0.0900 - accuracy: 0.2391 - val_loss: 0.0896 - val_accuracy: 0.2625\n",
      "Epoch 3/5\n",
      "60000/60000 [==============================] - 1s 21us/step - loss: 0.0892 - accuracy: 0.2810 - val_loss: 0.0889 - val_accuracy: 0.3069\n",
      "Epoch 4/5\n",
      "60000/60000 [==============================] - 1s 18us/step - loss: 0.0886 - accuracy: 0.3214 - val_loss: 0.0884 - val_accuracy: 0.3418\n",
      "Epoch 5/5\n",
      "60000/60000 [==============================] - 1s 18us/step - loss: 0.0881 - accuracy: 0.3458 - val_loss: 0.0879 - val_accuracy: 0.3657\n"
     ]
    }
   ],
   "source": [
    "(x_train.shape[1],)\n",
    "#num_hidden_neurons = 256\n",
    "model = make_model(num_layers=1)\n",
    "\n",
    "model.summary()\n",
    "history = model.fit(x_train, y_train, batch_size = 128, epochs = 5, validation_data  =(x_test, y_test))"
   ]
  },
  {
   "cell_type": "code",
   "execution_count": 29,
   "metadata": {
    "colab": {
     "base_uri": "https://localhost:8080/",
     "height": 52
    },
    "colab_type": "code",
    "id": "xzJsD_g7prN3",
    "outputId": "dfecfb87-2949-4375-a46e-547b42527029"
   },
   "outputs": [
    {
     "name": "stdout",
     "output_type": "stream",
     "text": [
      "Test loss: 0.08785697774887084\n",
      "Test accuracy: 0.36570000648498535\n"
     ]
    }
   ],
   "source": [
    "#evaluate the test loss\n",
    "\n",
    "score = model.evaluate(x_test, y_test, verbose=0)\n",
    "print('Test loss:', score[0])\n",
    "print('Test accuracy:', score[1])"
   ]
  },
  {
   "cell_type": "markdown",
   "metadata": {
    "colab_type": "text",
    "id": "YCMEPBy09wu8"
   },
   "source": [
    "## 2. Report the result of the test loss & accuracy, when we set the number of hidden layer to (2, 4, 8)  \n",
    "## *** Default condition : refer in the above codes and each hidden layer have same neurons(number of neurons: 128) \n",
    "## *** You have to write your codes in another blank area, and write your answer in below.\n",
    "\n",
    "> 들여쓴 블록\n",
    "\n",
    "\n",
    "| layer's num |      test loss     |    test accuracy      |\n",
    "|-------------|--------------------|-----------------------|\n",
    "|   2         |                    |                       |\n",
    "|-------------|--------------------|-----------------------|\n",
    "|   4         |                    |                       | \n",
    "|-------------|--------------------|-----------------------|\n",
    "|   8         |                    |                       |\n",
    "\n"
   ]
  },
  {
   "cell_type": "code",
   "execution_count": 0,
   "metadata": {
    "colab": {},
    "colab_type": "code",
    "id": "SluhPBjM9P3j"
   },
   "outputs": [],
   "source": [
    "# Write your answer in here \n",
    "\n",
    "\"\"\"\n",
    "hidden layer = 2\n",
    "Test loss: 0.09115856664180756\n",
    "Test accuracy: 0.08919999748468399\n",
    "\n",
    "hidden layer = 4\n",
    "Test loss: 0.09257981966733933\n",
    "Test accuracy: 0.09740000218153\n",
    "\n",
    "hidden layer = 8\n",
    "Test loss: 0.09131976207494735\n",
    "Test accuracy: 0.10100000351667404\n",
    "\"\"\"\n"
   ]
  },
  {
   "cell_type": "code",
   "execution_count": 30,
   "metadata": {
    "colab": {},
    "colab_type": "code",
    "id": "byODN_3VmmRs"
   },
   "outputs": [],
   "source": [
    "#num_hidden_neurons = 128\n",
    "def make_model(num_layers):\n",
    "    model= Sequential()\n",
    "    if num_layers == 0:\n",
    "        model.add(Dense(output_dim= num_classes, input_dim = x_train.shape[1], activation='softmax'))\n",
    "        model.compile(loss='mse', optimizer = 'sgd', metrics=['accuracy'])\n",
    "        return model\n",
    "    \n",
    "    for i in range(num_layers):\n",
    "        if i == 0:\n",
    "            model.add(Dense(output_dim = 128, input_dim = x_train.shape[1], activation='sigmoid'))\n",
    "        else:\n",
    "            model.add(Dense(output_dim = 10, activation='sigmoid'))\n",
    "    model.add(Dense(output_dim = num_classes, activation=\"softmax\"))\n",
    "    model.compile(loss='mse', optimizer='sgd', metrics=['accuracy'])\n",
    "    return model"
   ]
  },
  {
   "cell_type": "code",
   "execution_count": 31,
   "metadata": {
    "colab": {
     "base_uri": "https://localhost:8080/",
     "height": 562
    },
    "colab_type": "code",
    "id": "q1_XjYOkmnAw",
    "outputId": "0ae7697c-70ce-4c25-8aba-62e3ddd1491b"
   },
   "outputs": [
    {
     "name": "stderr",
     "output_type": "stream",
     "text": [
      "C:\\Program Files\\Anaconda3\\lib\\site-packages\\ipykernel_launcher.py:11: UserWarning: Update your `Dense` call to the Keras 2 API: `Dense(input_dim=784, activation=\"sigmoid\", units=128)`\n",
      "  # This is added back by InteractiveShellApp.init_path()\n",
      "C:\\Program Files\\Anaconda3\\lib\\site-packages\\ipykernel_launcher.py:13: UserWarning: Update your `Dense` call to the Keras 2 API: `Dense(activation=\"sigmoid\", units=10)`\n",
      "  del sys.path[0]\n",
      "C:\\Program Files\\Anaconda3\\lib\\site-packages\\ipykernel_launcher.py:14: UserWarning: Update your `Dense` call to the Keras 2 API: `Dense(activation=\"softmax\", units=10)`\n",
      "  \n"
     ]
    },
    {
     "name": "stdout",
     "output_type": "stream",
     "text": [
      "Model: \"sequential_5\"\n",
      "_________________________________________________________________\n",
      "Layer (type)                 Output Shape              Param #   \n",
      "=================================================================\n",
      "dense_9 (Dense)              (None, 128)               100480    \n",
      "_________________________________________________________________\n",
      "dense_10 (Dense)             (None, 10)                1290      \n",
      "_________________________________________________________________\n",
      "dense_11 (Dense)             (None, 10)                110       \n",
      "=================================================================\n",
      "Total params: 101,880\n",
      "Trainable params: 101,880\n",
      "Non-trainable params: 0\n",
      "_________________________________________________________________\n",
      "Train on 60000 samples, validate on 10000 samples\n",
      "Epoch 1/5\n",
      "60000/60000 [==============================] - 1s 18us/step - loss: 0.0923 - accuracy: 0.0904 - val_loss: 0.0921 - val_accuracy: 0.0892\n",
      "Epoch 2/5\n",
      "60000/60000 [==============================] - 1s 15us/step - loss: 0.0919 - accuracy: 0.0904 - val_loss: 0.0918 - val_accuracy: 0.0892\n",
      "Epoch 3/5\n",
      "60000/60000 [==============================] - 1s 14us/step - loss: 0.0916 - accuracy: 0.0904 - val_loss: 0.0915 - val_accuracy: 0.0892\n",
      "Epoch 4/5\n",
      "60000/60000 [==============================] - 1s 14us/step - loss: 0.0914 - accuracy: 0.0904 - val_loss: 0.0913 - val_accuracy: 0.0892\n",
      "Epoch 5/5\n",
      "60000/60000 [==============================] - 1s 13us/step - loss: 0.0912 - accuracy: 0.0904 - val_loss: 0.0912 - val_accuracy: 0.0892\n"
     ]
    }
   ],
   "source": [
    "# number of hidden 'layers' = 2\n",
    "(x_train.shape[1],)\n",
    "#num_hidden_neurons = 128\n",
    "model = make_model(num_layers=2)\n",
    "\n",
    "model.summary()\n",
    "history = model.fit(x_train, y_train, batch_size = 128, epochs = 5, validation_data  =(x_test, y_test))"
   ]
  },
  {
   "cell_type": "code",
   "execution_count": 32,
   "metadata": {
    "colab": {
     "base_uri": "https://localhost:8080/",
     "height": 52
    },
    "colab_type": "code",
    "id": "Lj1x2tx-oGGa",
    "outputId": "fe37c28d-bc6e-49ed-89aa-0e916b88fceb"
   },
   "outputs": [
    {
     "name": "stdout",
     "output_type": "stream",
     "text": [
      "Test loss: 0.09115856664180756\n",
      "Test accuracy: 0.08919999748468399\n"
     ]
    }
   ],
   "source": [
    "#evaluate the test loss\n",
    "\n",
    "score = model.evaluate(x_test, y_test, verbose=0)\n",
    "print('Test loss:', score[0])\n",
    "print('Test accuracy:', score[1])"
   ]
  },
  {
   "cell_type": "code",
   "execution_count": 33,
   "metadata": {
    "colab": {
     "base_uri": "https://localhost:8080/",
     "height": 633
    },
    "colab_type": "code",
    "id": "eTpZLdNModbg",
    "outputId": "cbf6d24f-e343-4469-c6cc-7edc1d83507a"
   },
   "outputs": [
    {
     "name": "stderr",
     "output_type": "stream",
     "text": [
      "C:\\Program Files\\Anaconda3\\lib\\site-packages\\ipykernel_launcher.py:11: UserWarning: Update your `Dense` call to the Keras 2 API: `Dense(input_dim=784, activation=\"sigmoid\", units=128)`\n",
      "  # This is added back by InteractiveShellApp.init_path()\n",
      "C:\\Program Files\\Anaconda3\\lib\\site-packages\\ipykernel_launcher.py:13: UserWarning: Update your `Dense` call to the Keras 2 API: `Dense(activation=\"sigmoid\", units=10)`\n",
      "  del sys.path[0]\n",
      "C:\\Program Files\\Anaconda3\\lib\\site-packages\\ipykernel_launcher.py:14: UserWarning: Update your `Dense` call to the Keras 2 API: `Dense(activation=\"softmax\", units=10)`\n",
      "  \n"
     ]
    },
    {
     "name": "stdout",
     "output_type": "stream",
     "text": [
      "Model: \"sequential_6\"\n",
      "_________________________________________________________________\n",
      "Layer (type)                 Output Shape              Param #   \n",
      "=================================================================\n",
      "dense_12 (Dense)             (None, 128)               100480    \n",
      "_________________________________________________________________\n",
      "dense_13 (Dense)             (None, 10)                1290      \n",
      "_________________________________________________________________\n",
      "dense_14 (Dense)             (None, 10)                110       \n",
      "_________________________________________________________________\n",
      "dense_15 (Dense)             (None, 10)                110       \n",
      "_________________________________________________________________\n",
      "dense_16 (Dense)             (None, 10)                110       \n",
      "=================================================================\n",
      "Total params: 102,100\n",
      "Trainable params: 102,100\n",
      "Non-trainable params: 0\n",
      "_________________________________________________________________\n",
      "Train on 60000 samples, validate on 10000 samples\n",
      "Epoch 1/5\n",
      "60000/60000 [==============================] - 1s 17us/step - loss: 0.0945 - accuracy: 0.0975 - val_loss: 0.0941 - val_accuracy: 0.0974\n",
      "Epoch 2/5\n",
      "60000/60000 [==============================] - 1s 18us/step - loss: 0.0939 - accuracy: 0.0975 - val_loss: 0.0936 - val_accuracy: 0.0974\n",
      "Epoch 3/5\n",
      "60000/60000 [==============================] - 1s 15us/step - loss: 0.0935 - accuracy: 0.0975 - val_loss: 0.0932 - val_accuracy: 0.0974\n",
      "Epoch 4/5\n",
      "60000/60000 [==============================] - 1s 14us/step - loss: 0.0931 - accuracy: 0.0975 - val_loss: 0.0929 - val_accuracy: 0.0974\n",
      "Epoch 5/5\n",
      "60000/60000 [==============================] - 1s 14us/step - loss: 0.0928 - accuracy: 0.0975 - val_loss: 0.0926 - val_accuracy: 0.0974\n"
     ]
    }
   ],
   "source": [
    "# number of hidden 'layers' = 4\n",
    "(x_train.shape[1],)\n",
    "#num_hidden_neurons = 128\n",
    "model = make_model(num_layers=4)\n",
    "\n",
    "model.summary()\n",
    "history = model.fit(x_train, y_train, batch_size = 128, epochs = 5, validation_data  =(x_test, y_test))"
   ]
  },
  {
   "cell_type": "code",
   "execution_count": 34,
   "metadata": {
    "colab": {
     "base_uri": "https://localhost:8080/",
     "height": 52
    },
    "colab_type": "code",
    "id": "_1d_osbEu9H7",
    "outputId": "4ee08db5-b8b9-484e-f0e1-f79ac028cfec"
   },
   "outputs": [
    {
     "name": "stdout",
     "output_type": "stream",
     "text": [
      "Test loss: 0.09257981966733933\n",
      "Test accuracy: 0.09740000218153\n"
     ]
    }
   ],
   "source": [
    "#evaluate the test loss\n",
    "\n",
    "score = model.evaluate(x_test, y_test, verbose=0)\n",
    "print('Test loss:', score[0])\n",
    "print('Test accuracy:', score[1])"
   ]
  },
  {
   "cell_type": "code",
   "execution_count": 35,
   "metadata": {
    "colab": {
     "base_uri": "https://localhost:8080/",
     "height": 774
    },
    "colab_type": "code",
    "id": "sVdGEnxPvLUR",
    "outputId": "8473b1ae-c6f4-4d95-8133-f5fd324eb71a"
   },
   "outputs": [
    {
     "name": "stderr",
     "output_type": "stream",
     "text": [
      "C:\\Program Files\\Anaconda3\\lib\\site-packages\\ipykernel_launcher.py:11: UserWarning: Update your `Dense` call to the Keras 2 API: `Dense(input_dim=784, activation=\"sigmoid\", units=128)`\n",
      "  # This is added back by InteractiveShellApp.init_path()\n",
      "C:\\Program Files\\Anaconda3\\lib\\site-packages\\ipykernel_launcher.py:13: UserWarning: Update your `Dense` call to the Keras 2 API: `Dense(activation=\"sigmoid\", units=10)`\n",
      "  del sys.path[0]\n",
      "C:\\Program Files\\Anaconda3\\lib\\site-packages\\ipykernel_launcher.py:14: UserWarning: Update your `Dense` call to the Keras 2 API: `Dense(activation=\"softmax\", units=10)`\n",
      "  \n"
     ]
    },
    {
     "name": "stdout",
     "output_type": "stream",
     "text": [
      "Model: \"sequential_7\"\n",
      "_________________________________________________________________\n",
      "Layer (type)                 Output Shape              Param #   \n",
      "=================================================================\n",
      "dense_17 (Dense)             (None, 128)               100480    \n",
      "_________________________________________________________________\n",
      "dense_18 (Dense)             (None, 10)                1290      \n",
      "_________________________________________________________________\n",
      "dense_19 (Dense)             (None, 10)                110       \n",
      "_________________________________________________________________\n",
      "dense_20 (Dense)             (None, 10)                110       \n",
      "_________________________________________________________________\n",
      "dense_21 (Dense)             (None, 10)                110       \n",
      "_________________________________________________________________\n",
      "dense_22 (Dense)             (None, 10)                110       \n",
      "_________________________________________________________________\n",
      "dense_23 (Dense)             (None, 10)                110       \n",
      "_________________________________________________________________\n",
      "dense_24 (Dense)             (None, 10)                110       \n",
      "_________________________________________________________________\n",
      "dense_25 (Dense)             (None, 10)                110       \n",
      "=================================================================\n",
      "Total params: 102,540\n",
      "Trainable params: 102,540\n",
      "Non-trainable params: 0\n",
      "_________________________________________________________________\n",
      "Train on 60000 samples, validate on 10000 samples\n",
      "Epoch 1/5\n",
      "60000/60000 [==============================] - 1s 18us/step - loss: 0.0919 - accuracy: 0.1022 - val_loss: 0.0918 - val_accuracy: 0.1010\n",
      "Epoch 2/5\n",
      "60000/60000 [==============================] - 1s 16us/step - loss: 0.0917 - accuracy: 0.1022 - val_loss: 0.0916 - val_accuracy: 0.1010\n",
      "Epoch 3/5\n",
      "60000/60000 [==============================] - 1s 16us/step - loss: 0.0916 - accuracy: 0.1022 - val_loss: 0.0915 - val_accuracy: 0.1010\n",
      "Epoch 4/5\n",
      "60000/60000 [==============================] - 1s 16us/step - loss: 0.0915 - accuracy: 0.1022 - val_loss: 0.0914 - val_accuracy: 0.1010\n",
      "Epoch 5/5\n",
      "60000/60000 [==============================] - 1s 19us/step - loss: 0.0914 - accuracy: 0.1022 - val_loss: 0.0913 - val_accuracy: 0.1010\n"
     ]
    }
   ],
   "source": [
    "# number of hidden 'layers' = 8\n",
    "(x_train.shape[1],)\n",
    "#num_hidden_neurons = 128\n",
    "model = make_model(num_layers=8)\n",
    "\n",
    "model.summary()\n",
    "history = model.fit(x_train, y_train, batch_size = 128, epochs = 5, validation_data  =(x_test, y_test))"
   ]
  },
  {
   "cell_type": "code",
   "execution_count": 36,
   "metadata": {
    "colab": {
     "base_uri": "https://localhost:8080/",
     "height": 52
    },
    "colab_type": "code",
    "id": "7VTg__0WvS4Q",
    "outputId": "99be2ea6-b9b0-4095-d660-2bc2f3b05f47"
   },
   "outputs": [
    {
     "name": "stdout",
     "output_type": "stream",
     "text": [
      "Test loss: 0.09131976207494735\n",
      "Test accuracy: 0.10100000351667404\n"
     ]
    }
   ],
   "source": [
    "#evaluate the test loss\n",
    "\n",
    "score = model.evaluate(x_test, y_test, verbose=0)\n",
    "print('Test loss:', score[0])\n",
    "print('Test accuracy:', score[1])"
   ]
  },
  {
   "cell_type": "markdown",
   "metadata": {
    "colab_type": "text",
    "id": "MrZcRg85_O3j"
   },
   "source": [
    "## 3. Report the result of the test loss & accuracy, when we set the number of batch size to (64, 128, 256) \n",
    "## *** Default condition : refer in the above codes,  use \"relu\" activation, dropout rate(0.2) and each hidden layer have same neurons(number of neurons: 256) \n",
    "## ***  Adjust 8 Layer(number of hidden layer) \n",
    "## *** You have to write your codes in another blank area, and write your answer in below.\n",
    "\n",
    "> 들여쓴 블록\n",
    "\n",
    "\n",
    "| batch size  |      test loss     |    test accuracy      |\n",
    "|-------------|--------------------|-----------------------|\n",
    "|   64        |                    |                       |\n",
    "|-------------|--------------------|-----------------------|\n",
    "|   128       |                    |                       | \n",
    "|-------------|--------------------|-----------------------|\n",
    "|   256       |                    |                       |\n",
    "\n"
   ]
  },
  {
   "cell_type": "code",
   "execution_count": 0,
   "metadata": {
    "colab": {},
    "colab_type": "code",
    "id": "A-B7cNa7_Dp6"
   },
   "outputs": [],
   "source": [
    "# Write your answer in here\n",
    "\"\"\"\n",
    "batch size 64\n",
    "Test loss: 0.08964685876369477\n",
    "Test accuracy: 0.23109999299049377\n",
    "\n",
    "batch size 128\n",
    "Test loss: 0.08987517845630645\n",
    "Test accuracy: 0.11079999804496765\n",
    "\n",
    "batch size 256\n",
    "Test loss: 0.08996683235168457\n",
    "Test accuracy: 0.13760000467300415\n",
    "\"\"\"\n"
   ]
  },
  {
   "cell_type": "code",
   "execution_count": 37,
   "metadata": {},
   "outputs": [
    {
     "data": {
      "text/plain": [
       "784"
      ]
     },
     "execution_count": 37,
     "metadata": {},
     "output_type": "execute_result"
    }
   ],
   "source": [
    "x_train.shape[1]"
   ]
  },
  {
   "cell_type": "code",
   "execution_count": 60,
   "metadata": {
    "colab": {},
    "colab_type": "code",
    "id": "nGFY6yxZ44gR"
   },
   "outputs": [],
   "source": [
    "def make_model(num_layers):\n",
    "    model= Sequential()\n",
    "    \n",
    "    # 입력층\n",
    "    if num_layers == 0:\n",
    "        model.add(Dense(output_dim= num_classes, input_dim = 784, activation='relu'))\n",
    "        model.compile(loss='mse', optimizer = 'sgd', metrics=['accuracy'])\n",
    "        return model\n",
    "    \n",
    "    # 은닉층 : 256개의 노드, 활성화함수는 relu\n",
    "    for i in range(num_layers):\n",
    "        if i == 0:\n",
    "            model.add(Dense(output_dim = 256, input_dim = 784, activation='relu'))\n",
    "        else:\n",
    "            model.add(Dense(output_dim = 256, activation='relu'))\n",
    "    \n",
    "    # 드랍아웃 층\n",
    "    model.add(Dropout(0.2))\n",
    "    \n",
    "    # 출력층 : 활성화함수는 softmax(다중분류이므로)\n",
    "    model.add(Dense(output_dim = num_classes, activation=\"softmax\"))\n",
    "    model.compile(loss='mse', optimizer='sgd', metrics=['accuracy'])\n",
    "    return model"
   ]
  },
  {
   "cell_type": "code",
   "execution_count": 61,
   "metadata": {
    "colab": {
     "base_uri": "https://localhost:8080/",
     "height": 492
    },
    "colab_type": "code",
    "id": "oN_5r7jF6qrU",
    "outputId": "086ba978-28c3-45f4-c527-224a7ba451c4"
   },
   "outputs": [
    {
     "name": "stderr",
     "output_type": "stream",
     "text": [
      "C:\\Users\\runia\\Anaconda3\\envs\\py36\\lib\\site-packages\\ipykernel_launcher.py:13: UserWarning: Update your `Dense` call to the Keras 2 API: `Dense(input_dim=784, activation=\"relu\", units=256)`\n",
      "  del sys.path[0]\n",
      "C:\\Users\\runia\\Anaconda3\\envs\\py36\\lib\\site-packages\\ipykernel_launcher.py:15: UserWarning: Update your `Dense` call to the Keras 2 API: `Dense(activation=\"relu\", units=256)`\n",
      "  from ipykernel import kernelapp as app\n",
      "C:\\Users\\runia\\Anaconda3\\envs\\py36\\lib\\site-packages\\ipykernel_launcher.py:21: UserWarning: Update your `Dense` call to the Keras 2 API: `Dense(activation=\"softmax\", units=10)`\n"
     ]
    },
    {
     "name": "stdout",
     "output_type": "stream",
     "text": [
      "Model: \"sequential_7\"\n",
      "_________________________________________________________________\n",
      "Layer (type)                 Output Shape              Param #   \n",
      "=================================================================\n",
      "dense_13 (Dense)             (None, 256)               200960    \n",
      "_________________________________________________________________\n",
      "dense_14 (Dense)             (None, 256)               65792     \n",
      "_________________________________________________________________\n",
      "dense_15 (Dense)             (None, 256)               65792     \n",
      "_________________________________________________________________\n",
      "dense_16 (Dense)             (None, 256)               65792     \n",
      "_________________________________________________________________\n",
      "dense_17 (Dense)             (None, 256)               65792     \n",
      "_________________________________________________________________\n",
      "dense_18 (Dense)             (None, 256)               65792     \n",
      "_________________________________________________________________\n",
      "dense_19 (Dense)             (None, 256)               65792     \n",
      "_________________________________________________________________\n",
      "dense_20 (Dense)             (None, 256)               65792     \n",
      "_________________________________________________________________\n",
      "dropout_1 (Dropout)          (None, 256)               0         \n",
      "_________________________________________________________________\n",
      "dense_21 (Dense)             (None, 10)                2570      \n",
      "=================================================================\n",
      "Total params: 664,074\n",
      "Trainable params: 664,074\n",
      "Non-trainable params: 0\n",
      "_________________________________________________________________\n",
      "Train on 60000 samples, validate on 10000 samples\n",
      "Epoch 1/5\n",
      "60000/60000 [==============================] - 16s 267us/step - loss: 0.0899 - accuracy: 0.1170 - val_loss: 0.0899 - val_accuracy: 0.1429\n",
      "Epoch 2/5\n",
      "60000/60000 [==============================] - 14s 232us/step - loss: 0.0898 - accuracy: 0.1412 - val_loss: 0.0898 - val_accuracy: 0.1831\n",
      "Epoch 3/5\n",
      "60000/60000 [==============================] - 14s 237us/step - loss: 0.0898 - accuracy: 0.1686 - val_loss: 0.0897 - val_accuracy: 0.2373\n",
      "Epoch 4/5\n",
      "60000/60000 [==============================] - 14s 241us/step - loss: 0.0897 - accuracy: 0.1997 - val_loss: 0.0896 - val_accuracy: 0.2773\n",
      "Epoch 5/5\n",
      "60000/60000 [==============================] - 14s 233us/step - loss: 0.0896 - accuracy: 0.2326 - val_loss: 0.0895 - val_accuracy: 0.3082\n"
     ]
    }
   ],
   "source": [
    "# batch_size = 64\n",
    "\n",
    "# number of hidden 'layers' = 8\n",
    "(x_train.shape[1],)\n",
    "\n",
    "#num_hidden_neurons = 256\n",
    "model = make_model(num_layers=8)\n",
    "\n",
    "# batch size = 64\n",
    "model.summary()\n",
    "history = model.fit(x_train, y_train, batch_size = 64, epochs = 5, validation_data  =(x_test, y_test))"
   ]
  },
  {
   "cell_type": "code",
   "execution_count": 62,
   "metadata": {},
   "outputs": [
    {
     "name": "stdout",
     "output_type": "stream",
     "text": [
      "Test loss: 0.08948207092285156\n",
      "Test accuracy: 0.30820000171661377\n"
     ]
    }
   ],
   "source": [
    "#evaluate the test loss\n",
    "\n",
    "score = model.evaluate(x_test, y_test, verbose=0)\n",
    "print('Test loss:', score[0])\n",
    "print('Test accuracy:', score[1])"
   ]
  },
  {
   "cell_type": "code",
   "execution_count": 63,
   "metadata": {},
   "outputs": [
    {
     "name": "stderr",
     "output_type": "stream",
     "text": [
      "C:\\Users\\runia\\Anaconda3\\envs\\py36\\lib\\site-packages\\ipykernel_launcher.py:13: UserWarning: Update your `Dense` call to the Keras 2 API: `Dense(input_dim=784, activation=\"relu\", units=256)`\n",
      "  del sys.path[0]\n",
      "C:\\Users\\runia\\Anaconda3\\envs\\py36\\lib\\site-packages\\ipykernel_launcher.py:15: UserWarning: Update your `Dense` call to the Keras 2 API: `Dense(activation=\"relu\", units=256)`\n",
      "  from ipykernel import kernelapp as app\n",
      "C:\\Users\\runia\\Anaconda3\\envs\\py36\\lib\\site-packages\\ipykernel_launcher.py:21: UserWarning: Update your `Dense` call to the Keras 2 API: `Dense(activation=\"softmax\", units=10)`\n"
     ]
    },
    {
     "name": "stdout",
     "output_type": "stream",
     "text": [
      "Model: \"sequential_8\"\n",
      "_________________________________________________________________\n",
      "Layer (type)                 Output Shape              Param #   \n",
      "=================================================================\n",
      "dense_22 (Dense)             (None, 256)               200960    \n",
      "_________________________________________________________________\n",
      "dense_23 (Dense)             (None, 256)               65792     \n",
      "_________________________________________________________________\n",
      "dense_24 (Dense)             (None, 256)               65792     \n",
      "_________________________________________________________________\n",
      "dense_25 (Dense)             (None, 256)               65792     \n",
      "_________________________________________________________________\n",
      "dense_26 (Dense)             (None, 256)               65792     \n",
      "_________________________________________________________________\n",
      "dense_27 (Dense)             (None, 256)               65792     \n",
      "_________________________________________________________________\n",
      "dense_28 (Dense)             (None, 256)               65792     \n",
      "_________________________________________________________________\n",
      "dense_29 (Dense)             (None, 256)               65792     \n",
      "_________________________________________________________________\n",
      "dropout_2 (Dropout)          (None, 256)               0         \n",
      "_________________________________________________________________\n",
      "dense_30 (Dense)             (None, 10)                2570      \n",
      "=================================================================\n",
      "Total params: 664,074\n",
      "Trainable params: 664,074\n",
      "Non-trainable params: 0\n",
      "_________________________________________________________________\n",
      "Train on 60000 samples, validate on 10000 samples\n",
      "Epoch 1/5\n",
      "60000/60000 [==============================] - 9s 156us/step - loss: 0.0900 - accuracy: 0.0990 - val_loss: 0.0899 - val_accuracy: 0.0945\n",
      "Epoch 2/5\n",
      "60000/60000 [==============================] - 6s 93us/step - loss: 0.0899 - accuracy: 0.1014 - val_loss: 0.0899 - val_accuracy: 0.0957\n",
      "Epoch 3/5\n",
      "60000/60000 [==============================] - 6s 93us/step - loss: 0.0899 - accuracy: 0.1066 - val_loss: 0.0899 - val_accuracy: 0.0977\n",
      "Epoch 4/5\n",
      "60000/60000 [==============================] - 5s 90us/step - loss: 0.0899 - accuracy: 0.1119 - val_loss: 0.0898 - val_accuracy: 0.0993\n",
      "Epoch 5/5\n",
      "60000/60000 [==============================] - 5s 91us/step - loss: 0.0898 - accuracy: 0.1190 - val_loss: 0.0898 - val_accuracy: 0.1064\n"
     ]
    }
   ],
   "source": [
    "# batch_size = 128\n",
    "\n",
    "# number of hidden 'layers' = 8\n",
    "(x_train.shape[1],)\n",
    "\n",
    "#num_hidden_neurons = 256\n",
    "model = make_model(num_layers=8)\n",
    "\n",
    "# batch size = 128\n",
    "model.summary()\n",
    "history = model.fit(x_train, y_train, batch_size = 128, epochs = 5, validation_data  =(x_test, y_test))"
   ]
  },
  {
   "cell_type": "code",
   "execution_count": 64,
   "metadata": {
    "scrolled": true
   },
   "outputs": [
    {
     "name": "stdout",
     "output_type": "stream",
     "text": [
      "Test loss: 0.0898047513961792\n",
      "Test accuracy: 0.10639999806880951\n"
     ]
    }
   ],
   "source": [
    "#evaluate the test loss\n",
    "\n",
    "score = model.evaluate(x_test, y_test, verbose=0)\n",
    "print('Test loss:', score[0])\n",
    "print('Test accuracy:', score[1])"
   ]
  },
  {
   "cell_type": "code",
   "execution_count": 65,
   "metadata": {},
   "outputs": [
    {
     "name": "stderr",
     "output_type": "stream",
     "text": [
      "C:\\Users\\runia\\Anaconda3\\envs\\py36\\lib\\site-packages\\ipykernel_launcher.py:13: UserWarning: Update your `Dense` call to the Keras 2 API: `Dense(input_dim=784, activation=\"relu\", units=256)`\n",
      "  del sys.path[0]\n",
      "C:\\Users\\runia\\Anaconda3\\envs\\py36\\lib\\site-packages\\ipykernel_launcher.py:15: UserWarning: Update your `Dense` call to the Keras 2 API: `Dense(activation=\"relu\", units=256)`\n",
      "  from ipykernel import kernelapp as app\n",
      "C:\\Users\\runia\\Anaconda3\\envs\\py36\\lib\\site-packages\\ipykernel_launcher.py:21: UserWarning: Update your `Dense` call to the Keras 2 API: `Dense(activation=\"softmax\", units=10)`\n"
     ]
    },
    {
     "name": "stdout",
     "output_type": "stream",
     "text": [
      "Model: \"sequential_9\"\n",
      "_________________________________________________________________\n",
      "Layer (type)                 Output Shape              Param #   \n",
      "=================================================================\n",
      "dense_31 (Dense)             (None, 256)               200960    \n",
      "_________________________________________________________________\n",
      "dense_32 (Dense)             (None, 256)               65792     \n",
      "_________________________________________________________________\n",
      "dense_33 (Dense)             (None, 256)               65792     \n",
      "_________________________________________________________________\n",
      "dense_34 (Dense)             (None, 256)               65792     \n",
      "_________________________________________________________________\n",
      "dense_35 (Dense)             (None, 256)               65792     \n",
      "_________________________________________________________________\n",
      "dense_36 (Dense)             (None, 256)               65792     \n",
      "_________________________________________________________________\n",
      "dense_37 (Dense)             (None, 256)               65792     \n",
      "_________________________________________________________________\n",
      "dense_38 (Dense)             (None, 256)               65792     \n",
      "_________________________________________________________________\n",
      "dropout_3 (Dropout)          (None, 256)               0         \n",
      "_________________________________________________________________\n",
      "dense_39 (Dense)             (None, 10)                2570      \n",
      "=================================================================\n",
      "Total params: 664,074\n",
      "Trainable params: 664,074\n",
      "Non-trainable params: 0\n",
      "_________________________________________________________________\n",
      "Train on 60000 samples, validate on 10000 samples\n",
      "Epoch 1/5\n",
      "60000/60000 [==============================] - 4s 60us/step - loss: 0.0900 - accuracy: 0.1146 - val_loss: 0.0900 - val_accuracy: 0.1206\n",
      "Epoch 2/5\n",
      "60000/60000 [==============================] - 3s 56us/step - loss: 0.0900 - accuracy: 0.1181 - val_loss: 0.0900 - val_accuracy: 0.1244\n",
      "Epoch 3/5\n",
      "60000/60000 [==============================] - 3s 57us/step - loss: 0.0900 - accuracy: 0.1229 - val_loss: 0.0900 - val_accuracy: 0.1280\n",
      "Epoch 4/5\n",
      "60000/60000 [==============================] - 3s 58us/step - loss: 0.0900 - accuracy: 0.1288 - val_loss: 0.0900 - val_accuracy: 0.1318\n",
      "Epoch 5/5\n",
      "60000/60000 [==============================] - 4s 58us/step - loss: 0.0900 - accuracy: 0.1321 - val_loss: 0.0900 - val_accuracy: 0.1346\n"
     ]
    }
   ],
   "source": [
    "# batch_size = 256\n",
    "\n",
    "# number of hidden 'layers' = 8\n",
    "(x_train.shape[1],)\n",
    "\n",
    "#num_hidden_neurons = 256\n",
    "model = make_model(num_layers=8)\n",
    "\n",
    "# batch size = 256\n",
    "model.summary()\n",
    "history = model.fit(x_train, y_train, batch_size = 256, epochs = 5, validation_data  =(x_test, y_test))"
   ]
  },
  {
   "cell_type": "code",
   "execution_count": 66,
   "metadata": {},
   "outputs": [
    {
     "name": "stdout",
     "output_type": "stream",
     "text": [
      "Test loss: 0.08995620033740998\n",
      "Test accuracy: 0.13459999859333038\n"
     ]
    }
   ],
   "source": [
    "#evaluate the test loss\n",
    "\n",
    "score = model.evaluate(x_test, y_test, verbose=0)\n",
    "print('Test loss:', score[0])\n",
    "print('Test accuracy:', score[1])"
   ]
  }
 ],
 "metadata": {
  "colab": {
   "collapsed_sections": [],
   "name": "Lab_Assignment_3.ipynb",
   "provenance": []
  },
  "kernelspec": {
   "display_name": "Python 3",
   "language": "python",
   "name": "python3"
  },
  "language_info": {
   "codemirror_mode": {
    "name": "ipython",
    "version": 3
   },
   "file_extension": ".py",
   "mimetype": "text/x-python",
   "name": "python",
   "nbconvert_exporter": "python",
   "pygments_lexer": "ipython3",
   "version": "3.6.7"
  }
 },
 "nbformat": 4,
 "nbformat_minor": 1
}
